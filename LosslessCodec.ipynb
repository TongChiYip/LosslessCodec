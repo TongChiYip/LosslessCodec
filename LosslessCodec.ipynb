{
 "cells": [
  {
   "cell_type": "code",
   "execution_count": 1,
   "metadata": {},
   "outputs": [],
   "source": [
    "from copy import deepcopy\n",
    "\n",
    "import numpy as np\n",
    "from PIL import Image\n",
    "from tqdm import tqdm\n",
    "\n",
    "from utils import *\n",
    "\n",
    "\n",
    "# 编码器的建立\n",
    "class Encoder:\n",
    "    def __init__(self) -> None:\n",
    "        pass\n",
    "    \n",
    "    def encode(self, img, path, diffmode=True):\n",
    "        self.outer = outer(path)\n",
    "        img = np.array(img, dtype=np.int16)\n",
    "\n",
    "        # 将图像的尺寸信息写入码流\n",
    "        bits = tuple()\n",
    "        h, w = img.shape[:-1]\n",
    "        bits = bits + uint2bin(h, depth=16) + uint2bin(w, depth=16)\n",
    "        self.outer.out(bits)\n",
    "\n",
    "        # 对每一个通道的图像进行差分编码\n",
    "        if diffmode:\n",
    "            for c in range(img.shape[2]):\n",
    "                img[:, :, c] = self._differential_encode(img[:, :, c])\n",
    "        else:\n",
    "            pass\n",
    "        \n",
    "        # 对图像进行哈夫曼编码\n",
    "        self._huffman_encode(img.reshape([-1]))\n",
    "\n",
    "        self.outer.close()\n",
    "    \n",
    "    # 差分编码\n",
    "    def _differential_encode(self, img):\n",
    "        sig = deepcopy(img)\n",
    "        sig[:, 1:] = img[:, 1:] - img[:, :-1]\n",
    "        return sig\n",
    "    \n",
    "    # 哈夫曼编码\n",
    "    def _huffman_encode(self, sig: np.ndarray):\n",
    "        # 统计图像信息，得到每个像素值的分布概率\n",
    "        symbs = [i for i in range(sig.min(), sig.max()+1)]\n",
    "        symbs, probs = hist(sig, symbs)\n",
    "\n",
    "        # 根据像素值和分布概率建立哈夫曼树\n",
    "        huffman_dict = huffman(symbs, probs)\n",
    "        \"\"\"\n",
    "        ================ CODE FORMAT ================\n",
    "        huffman dict:\n",
    "            +--------+---------------+---------+\n",
    "            | symbol |  len of code  |   code  |\n",
    "            +--------+---------------+---------+\n",
    "            | 9 bits |     5 bits    |  n bits |\n",
    "            +--------+---------------+---------+\n",
    "        img codes:\n",
    "            bits, with 0s filling behind\n",
    "        =============================================\n",
    "        \"\"\"\n",
    "        # 将哈夫曼表写入码流\n",
    "        for k in huffman_dict.keys():\n",
    "            self.outer.out(uint2bin(k+255, depth=9))    # 使用255移码，将[-255, 255]的像素值放缩到[0, 511]之间\n",
    "            self.outer.out(uint2bin(len(huffman_dict[k]), depth=5))\n",
    "            self.outer.out(huffman_dict[k])\n",
    "        # 以二进制码1 1111 1111作为EOF，分割哈夫曼表区与图像编码区\n",
    "        self.outer.out(uint2bin(511, depth=9))\n",
    "        # 将三通道图像展开成向量，进行编码\n",
    "        sig = np.reshape(sig, [-1])\n",
    "        # 将每个像素按照哈夫曼编码，写入码流\n",
    "        for i in tqdm(range(len(sig)), \"编码图像\"):\n",
    "            self.outer.out(huffman_dict[sig[i]])"
   ]
  },
  {
   "cell_type": "code",
   "execution_count": 2,
   "metadata": {},
   "outputs": [],
   "source": [
    "# 解码器的建立\n",
    "class Decoder:\n",
    "    def __init__(self) -> None:\n",
    "        pass\n",
    "    \n",
    "    def decode(self, path: str, diffmode=True):\n",
    "        self.inner = inner(path)\n",
    "\n",
    "        # 从码流中获取图像的尺寸信息\n",
    "        bits = tuple()\n",
    "        for _ in range(32):\n",
    "            bits = bits + self.inner.in_()\n",
    "        h, w = bin2uint(bits[:16]), bin2uint(bits[16:])\n",
    "\n",
    "        # 对码流进行哈夫曼解码\n",
    "        img = self._huffman_decode(h, w)\n",
    "\n",
    "        self.inner.close()\n",
    "\n",
    "        # 对差分图像进行差分解码\n",
    "        if diffmode:\n",
    "            for c in range(img.shape[2]):\n",
    "                img[:, :, c] = self._differential_decode(img[:, :, c])\n",
    "        else:\n",
    "            pass\n",
    "    \n",
    "    # 哈夫曼解码\n",
    "    def _huffman_decode(self, height: int, width: int) -> np.ndarray:\n",
    "        \"\"\"\n",
    "        ================ CODE FORMAT ================\n",
    "        huffman dict:\n",
    "            +--------+---------------+---------+\n",
    "            | symbol |  len of code  |   code  |\n",
    "            +--------+---------------+---------+\n",
    "            | 9 bits |     5 bits    |  n bits |\n",
    "            +--------+---------------+---------+\n",
    "        img codes:\n",
    "            bits, with 0s filling behind\n",
    "        =============================================\n",
    "        \"\"\"\n",
    "        # 从码流中读取哈夫曼表\n",
    "        huffman_dict = {}\n",
    "        while True:\n",
    "            # 9 bit码流作为像素值，检测到EOF时退出循环，开始读取图像\n",
    "            symb_bits = tuple()\n",
    "            for _ in range(9):\n",
    "                symb_bits = symb_bits + self.inner.in_()\n",
    "            symb = bin2uint(symb_bits)\n",
    "            if symb == 511:\n",
    "                break\n",
    "            else:\n",
    "                symb -= 255\n",
    "            \n",
    "            # 5 bit码流作为编码长度值\n",
    "            len_bits = tuple()\n",
    "            for _ in range(5):\n",
    "                len_bits = len_bits + self.inner.in_()\n",
    "            length = bin2uint(len_bits)\n",
    "\n",
    "            # 根据读取的编码长度读取编码\n",
    "            code = tuple()\n",
    "            for _ in range(length):\n",
    "                code = code + self.inner.in_()\n",
    "            \n",
    "            # 将键值对写入哈夫曼表\n",
    "            huffman_dict[code] = symb\n",
    "        \n",
    "        # 开始读取图像\n",
    "        img = np.zeros([height*width*3], dtype=np.int16)\n",
    "        codes = huffman_dict.keys()\n",
    "        bits = tuple()\n",
    "        for cnt in tqdm(range(height*width*3), \"解码图像\"):\n",
    "            while True:\n",
    "                bits = bits + self.inner.in_()\n",
    "                # 当文件读取完毕时，self.inner会返回空值，并将self.inner.current_byte设置为-1\n",
    "                # 用这种方法防止溢出\n",
    "                if (self.inner.current_byte == -1) or (bits in codes):\n",
    "                    break\n",
    "            # 生成图像\n",
    "            if not self.inner.current_byte == -1:\n",
    "                img[cnt] = huffman_dict[bits]\n",
    "            bits = tuple()\n",
    "        return img.reshape([height, width, 3])\n",
    "\n",
    "    # 差分解码\n",
    "    def _differential_decode(self, sig: np.ndarray):\n",
    "        img = deepcopy(sig)\n",
    "        for col in range(1, img.shape[1]):\n",
    "            img[:, col] = sig[:, col] + img[:, col-1]\n",
    "        return img"
   ]
  },
  {
   "cell_type": "code",
   "execution_count": 3,
   "metadata": {},
   "outputs": [
    {
     "name": "stdout",
     "output_type": "stream",
     "text": [
      "正在处理[01/24]："
     ]
    },
    {
     "name": "stderr",
     "output_type": "stream",
     "text": [
      "编码图像: 100%|██████████| 1179648/1179648 [00:05<00:00, 225581.05it/s]\n",
      "解码图像: 100%|██████████| 1179648/1179648 [00:04<00:00, 240046.66it/s]\n"
     ]
    },
    {
     "name": "stdout",
     "output_type": "stream",
     "text": [
      "正在处理[02/24]："
     ]
    },
    {
     "name": "stderr",
     "output_type": "stream",
     "text": [
      "编码图像: 100%|██████████| 1179648/1179648 [00:04<00:00, 244728.91it/s]\n",
      "解码图像: 100%|██████████| 1179648/1179648 [00:04<00:00, 291676.17it/s]\n"
     ]
    },
    {
     "name": "stdout",
     "output_type": "stream",
     "text": [
      "正在处理[03/24]："
     ]
    },
    {
     "name": "stderr",
     "output_type": "stream",
     "text": [
      "编码图像: 100%|██████████| 1179648/1179648 [00:04<00:00, 250508.70it/s]\n",
      "解码图像: 100%|██████████| 1179648/1179648 [00:03<00:00, 333648.99it/s]\n"
     ]
    },
    {
     "name": "stdout",
     "output_type": "stream",
     "text": [
      "正在处理[04/24]："
     ]
    },
    {
     "name": "stderr",
     "output_type": "stream",
     "text": [
      "编码图像: 100%|██████████| 1179648/1179648 [00:04<00:00, 241237.48it/s]\n",
      "解码图像: 100%|██████████| 1179648/1179648 [00:04<00:00, 286598.66it/s]\n"
     ]
    },
    {
     "name": "stdout",
     "output_type": "stream",
     "text": [
      "正在处理[05/24]："
     ]
    },
    {
     "name": "stderr",
     "output_type": "stream",
     "text": [
      "编码图像: 100%|██████████| 1179648/1179648 [00:05<00:00, 225640.85it/s]\n",
      "解码图像: 100%|██████████| 1179648/1179648 [00:04<00:00, 236015.48it/s]\n"
     ]
    },
    {
     "name": "stdout",
     "output_type": "stream",
     "text": [
      "正在处理[06/24]："
     ]
    },
    {
     "name": "stderr",
     "output_type": "stream",
     "text": [
      "编码图像: 100%|██████████| 1179648/1179648 [00:04<00:00, 237577.47it/s]\n",
      "解码图像: 100%|██████████| 1179648/1179648 [00:04<00:00, 273357.84it/s]\n"
     ]
    },
    {
     "name": "stdout",
     "output_type": "stream",
     "text": [
      "正在处理[07/24]："
     ]
    },
    {
     "name": "stderr",
     "output_type": "stream",
     "text": [
      "编码图像: 100%|██████████| 1179648/1179648 [00:04<00:00, 250104.85it/s]\n",
      "解码图像: 100%|██████████| 1179648/1179648 [00:03<00:00, 311569.43it/s]\n"
     ]
    },
    {
     "name": "stdout",
     "output_type": "stream",
     "text": [
      "正在处理[08/24]："
     ]
    },
    {
     "name": "stderr",
     "output_type": "stream",
     "text": [
      "编码图像: 100%|██████████| 1179648/1179648 [00:05<00:00, 215922.73it/s]\n",
      "解码图像: 100%|██████████| 1179648/1179648 [00:05<00:00, 226428.00it/s]\n"
     ]
    },
    {
     "name": "stdout",
     "output_type": "stream",
     "text": [
      "正在处理[09/24]："
     ]
    },
    {
     "name": "stderr",
     "output_type": "stream",
     "text": [
      "编码图像: 100%|██████████| 1179648/1179648 [00:04<00:00, 243200.19it/s]\n",
      "解码图像: 100%|██████████| 1179648/1179648 [00:03<00:00, 303866.63it/s]\n"
     ]
    },
    {
     "name": "stdout",
     "output_type": "stream",
     "text": [
      "正在处理[10/24]："
     ]
    },
    {
     "name": "stderr",
     "output_type": "stream",
     "text": [
      "编码图像: 100%|██████████| 1179648/1179648 [00:04<00:00, 241544.29it/s]\n",
      "解码图像: 100%|██████████| 1179648/1179648 [00:03<00:00, 295836.10it/s]\n"
     ]
    },
    {
     "name": "stdout",
     "output_type": "stream",
     "text": [
      "正在处理[11/24]："
     ]
    },
    {
     "name": "stderr",
     "output_type": "stream",
     "text": [
      "编码图像: 100%|██████████| 1179648/1179648 [00:04<00:00, 242097.74it/s]\n",
      "解码图像: 100%|██████████| 1179648/1179648 [00:04<00:00, 281793.54it/s]\n"
     ]
    },
    {
     "name": "stdout",
     "output_type": "stream",
     "text": [
      "正在处理[12/24]："
     ]
    },
    {
     "name": "stderr",
     "output_type": "stream",
     "text": [
      "编码图像: 100%|██████████| 1179648/1179648 [00:04<00:00, 241946.50it/s]\n",
      "解码图像: 100%|██████████| 1179648/1179648 [00:03<00:00, 310694.39it/s]\n"
     ]
    },
    {
     "name": "stdout",
     "output_type": "stream",
     "text": [
      "正在处理[13/24]："
     ]
    },
    {
     "name": "stderr",
     "output_type": "stream",
     "text": [
      "编码图像: 100%|██████████| 1179648/1179648 [00:05<00:00, 214621.99it/s]\n",
      "解码图像: 100%|██████████| 1179648/1179648 [00:05<00:00, 219581.15it/s]\n"
     ]
    },
    {
     "name": "stdout",
     "output_type": "stream",
     "text": [
      "正在处理[14/24]："
     ]
    },
    {
     "name": "stderr",
     "output_type": "stream",
     "text": [
      "编码图像: 100%|██████████| 1179648/1179648 [00:05<00:00, 234490.02it/s]\n",
      "解码图像: 100%|██████████| 1179648/1179648 [00:04<00:00, 261672.32it/s]\n"
     ]
    },
    {
     "name": "stdout",
     "output_type": "stream",
     "text": [
      "正在处理[15/24]："
     ]
    },
    {
     "name": "stderr",
     "output_type": "stream",
     "text": [
      "编码图像: 100%|██████████| 1179648/1179648 [00:04<00:00, 239518.51it/s]\n",
      "解码图像: 100%|██████████| 1179648/1179648 [00:04<00:00, 292402.83it/s]\n"
     ]
    },
    {
     "name": "stdout",
     "output_type": "stream",
     "text": [
      "正在处理[16/24]："
     ]
    },
    {
     "name": "stderr",
     "output_type": "stream",
     "text": [
      "编码图像: 100%|██████████| 1179648/1179648 [00:04<00:00, 250555.85it/s]\n",
      "解码图像: 100%|██████████| 1179648/1179648 [00:03<00:00, 305595.71it/s]\n"
     ]
    },
    {
     "name": "stdout",
     "output_type": "stream",
     "text": [
      "正在处理[17/24]："
     ]
    },
    {
     "name": "stderr",
     "output_type": "stream",
     "text": [
      "编码图像: 100%|██████████| 1179648/1179648 [00:04<00:00, 240616.04it/s]\n",
      "解码图像: 100%|██████████| 1179648/1179648 [00:04<00:00, 287762.44it/s]\n"
     ]
    },
    {
     "name": "stdout",
     "output_type": "stream",
     "text": [
      "正在处理[18/24]："
     ]
    },
    {
     "name": "stderr",
     "output_type": "stream",
     "text": [
      "编码图像: 100%|██████████| 1179648/1179648 [00:05<00:00, 224042.05it/s]\n",
      "解码图像: 100%|██████████| 1179648/1179648 [00:04<00:00, 244286.76it/s]\n"
     ]
    },
    {
     "name": "stdout",
     "output_type": "stream",
     "text": [
      "正在处理[19/24]："
     ]
    },
    {
     "name": "stderr",
     "output_type": "stream",
     "text": [
      "编码图像: 100%|██████████| 1179648/1179648 [00:05<00:00, 231720.45it/s]\n",
      "解码图像: 100%|██████████| 1179648/1179648 [00:04<00:00, 267758.36it/s]\n"
     ]
    },
    {
     "name": "stdout",
     "output_type": "stream",
     "text": [
      "正在处理[20/24]："
     ]
    },
    {
     "name": "stderr",
     "output_type": "stream",
     "text": [
      "编码图像: 100%|██████████| 1179648/1179648 [00:04<00:00, 260087.58it/s]\n",
      "解码图像: 100%|██████████| 1179648/1179648 [00:03<00:00, 334179.19it/s]\n"
     ]
    },
    {
     "name": "stdout",
     "output_type": "stream",
     "text": [
      "正在处理[21/24]："
     ]
    },
    {
     "name": "stderr",
     "output_type": "stream",
     "text": [
      "编码图像: 100%|██████████| 1179648/1179648 [00:05<00:00, 234895.22it/s]\n",
      "解码图像: 100%|██████████| 1179648/1179648 [00:04<00:00, 272276.91it/s]\n"
     ]
    },
    {
     "name": "stdout",
     "output_type": "stream",
     "text": [
      "正在处理[22/24]："
     ]
    },
    {
     "name": "stderr",
     "output_type": "stream",
     "text": [
      "编码图像: 100%|██████████| 1179648/1179648 [00:05<00:00, 232029.36it/s]\n",
      "解码图像: 100%|██████████| 1179648/1179648 [00:04<00:00, 261752.49it/s]\n"
     ]
    },
    {
     "name": "stdout",
     "output_type": "stream",
     "text": [
      "正在处理[23/24]："
     ]
    },
    {
     "name": "stderr",
     "output_type": "stream",
     "text": [
      "编码图像: 100%|██████████| 1179648/1179648 [00:04<00:00, 254602.71it/s]\n",
      "解码图像: 100%|██████████| 1179648/1179648 [00:03<00:00, 305126.22it/s]\n"
     ]
    },
    {
     "name": "stdout",
     "output_type": "stream",
     "text": [
      "正在处理[24/24]："
     ]
    },
    {
     "name": "stderr",
     "output_type": "stream",
     "text": [
      "编码图像: 100%|██████████| 1179648/1179648 [00:05<00:00, 227092.99it/s]\n",
      "解码图像: 100%|██████████| 1179648/1179648 [00:04<00:00, 249748.44it/s]\n"
     ]
    }
   ],
   "source": [
    "for i in range(24):\n",
    "    name = str(i+1).zfill(2)\n",
    "    print(\"正在处理[{}/{}]：\".format(name, 24), end=\"\")\n",
    "    img = Image.open(\"dataset/kodim{}.png\".format(name))\n",
    "\n",
    "    encoder = Encoder()\n",
    "    encoder.encode(img, \"bin/kodim{}.bin\".format(name))\n",
    "\n",
    "    decoder = Decoder()\n",
    "    decoder.decode(\"bin/kodim{}.bin\".format(name))"
   ]
  },
  {
   "cell_type": "code",
   "execution_count": 4,
   "metadata": {},
   "outputs": [
    {
     "name": "stdout",
     "output_type": "stream",
     "text": [
      "最终压缩比：1.6041\n"
     ]
    }
   ],
   "source": [
    "import os\n",
    "\n",
    "\n",
    "result = 0.\n",
    "for i in range(24):\n",
    "    name = str(i+1).zfill(2)\n",
    "    bmp_size = os.path.getsize(\"./bmp/kodim{}.bmp\".format(name))\n",
    "    bin_size = os.path.getsize(\"./bin/kodim{}.bin\".format(name))\n",
    "    result += bmp_size / bin_size / 24.\n",
    "print(\"最终压缩比：{:.4f}\".format(result))"
   ]
  }
 ],
 "metadata": {
  "kernelspec": {
   "display_name": "Python 3.8.13 ('exp3')",
   "language": "python",
   "name": "python3"
  },
  "language_info": {
   "codemirror_mode": {
    "name": "ipython",
    "version": 3
   },
   "file_extension": ".py",
   "mimetype": "text/x-python",
   "name": "python",
   "nbconvert_exporter": "python",
   "pygments_lexer": "ipython3",
   "version": "3.8.13"
  },
  "orig_nbformat": 4,
  "vscode": {
   "interpreter": {
    "hash": "80f46f7e1dcee6b50aa6c73638cfdc3440c56f73f45732e646bc0b576970b0bb"
   }
  }
 },
 "nbformat": 4,
 "nbformat_minor": 2
}
